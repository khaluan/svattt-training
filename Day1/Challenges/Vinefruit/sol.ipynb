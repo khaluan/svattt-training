{
 "cells": [
  {
   "cell_type": "code",
   "execution_count": null,
   "metadata": {},
   "outputs": [],
   "source": [
    "def vinefruit(msg, mod, flag = 1):\n",
    "\tP = [16777619, 1099511628211, 309485009821345068724781371]\n",
    "\tO = [2166136261, 14695981039346656037, 144066263297769815596495629667062367629]\n",
    "\tassert mod in [0, 1, 2]\n",
    "\tp, o, m = P[mod], O[mod], 2 ** (2 << (4 + mod))\n",
    "\tvine = o\n",
    "\tp = var('p')\n",
    "\tfor b in msg:\n",
    "\t\tif flag == 1:\n",
    "\t\t\tvine = (vine + b) % (2**128)\n",
    "\t\telse:\n",
    "\t\t\tvine = vine ^ b\n",
    "\t\tvine = (vine * p) % m\n",
    "\treturn vine"
   ]
  },
  {
   "cell_type": "code",
   "execution_count": null,
   "metadata": {},
   "outputs": [],
   "source": [
    "P = [16777619, 1099511628211, 309485009821345068724781371]\n",
    "O = [2166136261, 14695981039346656037, 144066263297769815596495629667062367629]\n",
    "\n",
    "for mod in range(3):\n",
    "    p, o, m = P[mod], O[mod], 2 ** (2 << (4 + mod))\n",
    "    vine = o\n",
    "    size = 17\n",
    "    mat = [[(p^i) % m] + [0] * (i - 1) + [1] + [0] * (size - 1 - i) for i in range(1, size)]\n",
    "    mat.append([m] + [0] * (size-1))\n",
    "#     print(mat)\n",
    "    mat = Matrix(mat)\n",
    "    sol = mat.LLL()\n",
    "    for possible_sol in sol:\n",
    "        if possible_sol[0] == 0:\n",
    "            diff = possible_sol[1:]\n",
    "            assert sum(x * (p ^ (i+1)) for i, x in enumerate(diff)) % m == 0\n",
    "\n",
    "            # p = var('p')\n",
    "            print(sum(x * (p ^ (i+1)) for i, x in enumerate(diff)))\n",
    "\n",
    "            x = [0x41] * len(diff)\n",
    "            y = [u + int(v) for u, v in zip(x, diff[::-1])]\n",
    "            y = bytes(y)\n",
    "            x = bytes(x)\n",
    "            print(x, y)\n",
    "            h_x = (vinefruit(b'a' + x, mod, 1))\n",
    "            h_y = (vinefruit(b'a' + y, mod, 1))\n",
    "            print(h_x, h_y)            \n",
    "            # print(h_x.full_simplify(), h_y.full_simplify())\n",
    "            break"
   ]
  }
 ],
 "metadata": {
  "language_info": {
   "name": "python"
  },
  "orig_nbformat": 4
 },
 "nbformat": 4,
 "nbformat_minor": 2
}
